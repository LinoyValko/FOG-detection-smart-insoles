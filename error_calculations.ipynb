{
  "nbformat": 4,
  "nbformat_minor": 0,
  "metadata": {
    "colab": {
      "provenance": []
    },
    "kernelspec": {
      "name": "python3",
      "display_name": "Python 3"
    },
    "language_info": {
      "name": "python"
    }
  },
  "cells": [
    {
      "cell_type": "markdown",
      "source": [
        "# **Imports**"
      ],
      "metadata": {
        "id": "G0hFcjpQ5oC7"
      }
    },
    {
      "cell_type": "code",
      "source": [
        "import os\n",
        "import pandas as pd\n",
        "import matplotlib.pyplot as plt\n",
        "import numpy as np"
      ],
      "metadata": {
        "id": "80Nts7X45njs"
      },
      "execution_count": null,
      "outputs": []
    },
    {
      "cell_type": "code",
      "source": [
        "from google.colab import drive\n",
        "drive.mount('/content/drive')"
      ],
      "metadata": {
        "colab": {
          "base_uri": "https://localhost:8080/"
        },
        "id": "uIRN6Z0SFFFV",
        "outputId": "9be3cc62-c94d-468c-8c1a-3bde513bd24a"
      },
      "execution_count": null,
      "outputs": [
        {
          "output_type": "stream",
          "name": "stdout",
          "text": [
            "Mounted at /content/drive\n"
          ]
        }
      ]
    },
    {
      "cell_type": "markdown",
      "source": [
        "# **Helper Functions**"
      ],
      "metadata": {
        "id": "f3EX5sbKVmE9"
      }
    },
    {
      "cell_type": "markdown",
      "source": [
        "## **Delta Time Calculation**"
      ],
      "metadata": {
        "id": "8FgiG49opM-m"
      }
    },
    {
      "cell_type": "code",
      "source": [
        "def build_delta_time_files(base_path: str,\n",
        "                           patients: list[int],\n",
        "                           src_suffix: str = \"_with_new_phonetime\",\n",
        "                           dst_suffix: str = \"_with_delta_time\",\n",
        "                           full_hour_ms: int = 3_600_000) -> None:\n",
        "    \"\"\"\n",
        "    Create *_with_delta.csv files for every patient.\n",
        "\n",
        "    For each file in <patient>/<patient>{src_suffix}/:\n",
        "        • delay_correction = time_ms(0) − phonetime_ms(0)\n",
        "        • Skip file if delay_correction is NOT an exact multiple of one hour.\n",
        "        • delta_time  = |time_ms − (phonetime_ms + delay_correction)|\n",
        "        • max_delta   = delta_time.max()\n",
        "        • Save to     <patient>/<patient>{dst_suffix}/<orig>_with_delta.csv\n",
        "    \"\"\"\n",
        "    for pid in patients:\n",
        "        input_dir  = os.path.join(base_path, str(pid), f\"{pid}{src_suffix}\")\n",
        "        output_dir = os.path.join(base_path, str(pid), f\"{pid}{dst_suffix}\")\n",
        "\n",
        "        if not os.path.exists(input_dir):\n",
        "            print(f\"⚠️  Source folder missing for patient {pid}\")\n",
        "            continue\n",
        "        os.makedirs(output_dir, exist_ok=True)\n",
        "\n",
        "        for fname in filter(lambda x: x.endswith(\".csv\"), os.listdir(input_dir)):\n",
        "            fp_in  = os.path.join(input_dir, fname)\n",
        "            fp_out = os.path.join(output_dir, fname[:-4] + \"_with_delta.csv\")\n",
        "\n",
        "            df = pd.read_csv(fp_in)\n",
        "            if {\"time_ms\", \"phonetime_ms\"} <= set(df.columns):\n",
        "                # delay correction from first row\n",
        "                corr = df.loc[0, \"time_ms\"] - df.loc[0, \"phonetime_ms\"]\n",
        "\n",
        "                # skip if not full-hour multiple\n",
        "                if corr % full_hour_ms != 0:\n",
        "                    print(f\"⏭️  Skipped {fp_in}  (delay_correction={corr} not full hour)\")\n",
        "                    continue\n",
        "\n",
        "                # delta_time & max_delta\n",
        "                df[\"delta_time\"] = (df[\"time_ms\"] - (df[\"phonetime_ms\"] + corr)).abs()\n",
        "                df[\"max_delta\"]  = df[\"delta_time\"].max()\n",
        "\n",
        "                df.to_csv(fp_out, index=False)\n",
        "                print(f\"✔️  Processed: {fp_in} → {fp_out}  |  correction = {corr}\")\n",
        "            else:\n",
        "                print(f\"⚠️  Skipped {fp_in} (missing required columns)\")\n"
      ],
      "metadata": {
        "id": "S5v3SuTMprrq"
      },
      "execution_count": null,
      "outputs": []
    },
    {
      "cell_type": "markdown",
      "source": [
        "## **75th Percentile of Delta Time (for each file)**"
      ],
      "metadata": {
        "id": "BkVnCvF5pDAp"
      }
    },
    {
      "cell_type": "code",
      "source": [
        "def update_q75_per_file(base_path: str, patients: list[int]) -> pd.DataFrame:\n",
        "    \"\"\"\n",
        "    Add / overwrite column ``q75_delta_time`` in every CSV\n",
        "    (same constant value in all rows = 75-percentile of delta_time).\n",
        "\n",
        "    Returns\n",
        "    -------\n",
        "    pd.DataFrame\n",
        "        file | patient | q75   — one row per CSV.\n",
        "    \"\"\"\n",
        "    rec: list[dict] = []\n",
        "\n",
        "    for pid in patients:\n",
        "        folder = os.path.join(base_path, str(pid), f\"{pid}_with_delta_time\")\n",
        "        if not os.path.exists(folder):\n",
        "            continue\n",
        "\n",
        "        for fn in (f for f in os.listdir(folder) if f.endswith(\".csv\")):\n",
        "            fp = os.path.join(folder, fn)\n",
        "            df = pd.read_csv(fp, usecols=[\"delta_time\"])\n",
        "            if df.empty:\n",
        "                continue\n",
        "\n",
        "            q75 = df[\"delta_time\"].quantile(0.75)\n",
        "            df[\"q75_delta_time\"] = q75\n",
        "            df.to_csv(fp, index=False)\n",
        "\n",
        "            rec.append({\"patient\": pid, \"file\": fn, \"q75\": float(q75)})\n",
        "\n",
        "    return pd.DataFrame(rec)"
      ],
      "metadata": {
        "id": "QGJrqR5VVkQ9"
      },
      "execution_count": null,
      "outputs": []
    },
    {
      "cell_type": "markdown",
      "source": [
        "## **75th Percentile of Delta Time (for all files together)**"
      ],
      "metadata": {
        "id": "FrSpRSORp_gc"
      }
    },
    {
      "cell_type": "code",
      "source": [
        "def global_q75(base_path: str, patients: list[int]) -> float | None:\n",
        "    \"\"\"\n",
        "    Compute 75-percentile across **all** delta_time values\n",
        "    from every file / every patient.\n",
        "\n",
        "    Returns ``None`` if no data found.\n",
        "    \"\"\"\n",
        "    vals: list[float] = []\n",
        "\n",
        "    for pid in patients:\n",
        "        folder = os.path.join(base_path, str(pid), f\"{pid}_with_delta_time\")\n",
        "        if not os.path.exists(folder):\n",
        "            continue\n",
        "\n",
        "        for fn in (f for f in os.listdir(folder) if f.endswith(\".csv\")):\n",
        "            fp = os.path.join(folder, fn)\n",
        "            try:\n",
        "                vals.extend(pd.read_csv(fp, usecols=[\"delta_time\"])\n",
        "                            [\"delta_time\"].dropna().tolist())\n",
        "            except Exception:\n",
        "                continue\n",
        "\n",
        "    return float(np.percentile(vals, 75)) if vals else None"
      ],
      "metadata": {
        "id": "27DuumTgoAa5"
      },
      "execution_count": null,
      "outputs": []
    },
    {
      "cell_type": "markdown",
      "source": [
        "## **IQR**"
      ],
      "metadata": {
        "id": "tT-VFpieqFQp"
      }
    },
    {
      "cell_type": "code",
      "source": [
        "def sensor_pipeline(sensor_name: str,\n",
        "                    base_path: str,\n",
        "                    patient_ids: list[int]) -> None:\n",
        "    \"\"\"\n",
        "    Pipeline for one sensor: writes q75 per file, prints the list sorted by q75,\n",
        "    then computes IQR on that list (Q3-Q1) and the upper-fence = Q3+1.5·IQR.\n",
        "\n",
        "    Any file whose q75 exceeds the fence is flagged as an outlier.\n",
        "    \"\"\"\n",
        "    print(f\"\\n===== {sensor_name.upper()} SENSOR =====\")\n",
        "\n",
        "    # ── 1. q75 for each file ───────────────────────────────\n",
        "    df_q75 = update_q75_per_file(base_path, patient_ids)\n",
        "    if df_q75.empty:\n",
        "        print(\"⚠️  No delta_time data found.\")\n",
        "        return\n",
        "\n",
        "    # sort & display the per-file q75 list\n",
        "    df_q75 = df_q75.sort_values(\"q75\").reset_index(drop=True)\n",
        "    print(\"\\nq75 per file (low → high):\")\n",
        "    for _, r in df_q75.iterrows():\n",
        "        print(f\"{r.q75:7.2f} ms | {r.file:<35} | P{r.patient}\")\n",
        "\n",
        "    # ── 2. global 75-percentile across *all* delta_time values ─\n",
        "    gq75 = global_q75(base_path, patient_ids)\n",
        "    if gq75 is not None:\n",
        "        print(f\"\\nGLOBAL 75-percentile of all delta_time = {gq75:.2f} ms\")\n",
        "\n",
        "    # ── 3. IQR & upper-fence on the *list* of q75 values ──────\n",
        "    q1_files  = df_q75[\"q75\"].quantile(0.25)    # Q1 of q75 list\n",
        "    q3_files  = df_q75[\"q75\"].quantile(0.75)    # Q3 of q75 list\n",
        "    iqr_files = q3_files - q1_files\n",
        "    upper_fence = q3_files + 1.5 * iqr_files\n",
        "\n",
        "    print(\"\\n── Stats on q75 list ──\")\n",
        "    print(f\"Q1  (25-th pct) : {q1_files:.2f} ms\")\n",
        "    print(f\"Q3  (75-th pct) : {q3_files:.2f} ms\")\n",
        "    print(f\"IQR (Q3-Q1)     : {iqr_files:.2f} ms\")\n",
        "    print(f\"Upper fence     : {upper_fence:.2f} ms\")\n",
        "\n",
        "    # flag files whose q75 exceeds the fence\n",
        "    outliers = df_q75[df_q75[\"q75\"] > upper_fence]\n",
        "    if not outliers.empty:\n",
        "        print(\"\\n⚠️  Files whose q75 is ABOVE the upper-fence:\")\n",
        "        for _, r in outliers.iterrows():\n",
        "            print(f\"  {r.q75:.2f} ms | {r.file:<35} | P{r.patient}\")\n",
        "    else:\n",
        "        print(\"\\nNo file-level q75 exceeds the upper-fence.\")\n"
      ],
      "metadata": {
        "id": "rkAYwpQFpfgo"
      },
      "execution_count": null,
      "outputs": []
    },
    {
      "cell_type": "code",
      "source": [
        "BASE_PRESSURE = \"/content/drive/MyDrive/Master's degree/Insoles Project/ניתוח שגיאות זמן בהעברת נתונים/Pressure\"\n",
        "PRESSURE_PTS  = [2, 3, 5, 8, 9, 11, 12, 14, 16, 17, 18]\n",
        "\n",
        "BASE_IMU      = \"/content/drive/MyDrive/Master's degree/Insoles Project/ניתוח שגיאות זמן בהעברת נתונים/IMU\"\n",
        "IMU_PTS       = [2, 3, 5, 8, 9, 11, 12, 14, 15, 16, 17, 18]"
      ],
      "metadata": {
        "id": "5CP9zl-qT95x"
      },
      "execution_count": null,
      "outputs": []
    },
    {
      "cell_type": "markdown",
      "source": [
        "# **MAIN**"
      ],
      "metadata": {
        "id": "TJC1SGxPqT1G"
      }
    },
    {
      "cell_type": "code",
      "source": [
        "def main() -> None:\n",
        "    \"\"\"Master routine – build delta_time files and run stats for each sensor.\"\"\"\n",
        "    # 1. build delta_time CSVs\n",
        "    print(\"=== BUILDING delta_time FILES ===\")\n",
        "    build_delta_time_files(BASE_PRESSURE, PRESSURE_PTS)\n",
        "    build_delta_time_files(BASE_IMU,       IMU_PTS)\n",
        "\n",
        "    # 2. run statistics pipeline per sensor\n",
        "    sensor_pipeline(\"pressure\", BASE_PRESSURE, PRESSURE_PTS)\n",
        "    sensor_pipeline(\"imu\",       BASE_IMU,      IMU_PTS)\n",
        "\n",
        "\n",
        "# ── entry-point ────────────────────────────────────────────────\n",
        "if __name__ == \"__main__\":\n",
        "    main()"
      ],
      "metadata": {
        "colab": {
          "base_uri": "https://localhost:8080/"
        },
        "id": "NMlNfgHsq3qr",
        "outputId": "1354b694-5b01-4804-9541-c9f3d7536508"
      },
      "execution_count": null,
      "outputs": [
        {
          "output_type": "stream",
          "name": "stdout",
          "text": [
            "=== BUILDING delta_time FILES ===\n",
            "✔️  Processed: /content/drive/MyDrive/Master's degree/Insoles Project/ניתוח שגיאות זמן בהעברת נתונים/Pressure/2/2_with_new_phonetime/002LeftPRE_T1_unknown_clean.csv → /content/drive/MyDrive/Master's degree/Insoles Project/ניתוח שגיאות זמן בהעברת נתונים/Pressure/2/2_with_delta_time/002LeftPRE_T1_unknown_clean_with_delta.csv  |  correction = 10800000.0\n",
            "✔️  Processed: /content/drive/MyDrive/Master's degree/Insoles Project/ניתוח שגיאות זמן בהעברת נתונים/Pressure/2/2_with_new_phonetime/002RightPRE_T1_unknown_clean.csv → /content/drive/MyDrive/Master's degree/Insoles Project/ניתוח שגיאות זמן בהעברת נתונים/Pressure/2/2_with_delta_time/002RightPRE_T1_unknown_clean_with_delta.csv  |  correction = 10800000.0\n",
            "✔️  Processed: /content/drive/MyDrive/Master's degree/Insoles Project/ניתוח שגיאות זמן בהעברת נתונים/Pressure/3/3_with_new_phonetime/003LeftPRE_T0_unknown_clean.csv → /content/drive/MyDrive/Master's degree/Insoles Project/ניתוח שגיאות זמן בהעברת נתונים/Pressure/3/3_with_delta_time/003LeftPRE_T0_unknown_clean_with_delta.csv  |  correction = 10800000.0\n",
            "✔️  Processed: /content/drive/MyDrive/Master's degree/Insoles Project/ניתוח שגיאות זמן בהעברת נתונים/Pressure/3/3_with_new_phonetime/003RightPRE_T0_unknown_clean.csv → /content/drive/MyDrive/Master's degree/Insoles Project/ניתוח שגיאות זמן בהעברת נתונים/Pressure/3/3_with_delta_time/003RightPRE_T0_unknown_clean_with_delta.csv  |  correction = 10800000.0\n",
            "⏭️  Skipped /content/drive/MyDrive/Master's degree/Insoles Project/ניתוח שגיאות זמן בהעברת נתונים/Pressure/5/5_with_new_phonetime/005LeftPRE_T1_off_clean.csv  (delay_correction=7190040.0 not full hour)\n",
            "✔️  Processed: /content/drive/MyDrive/Master's degree/Insoles Project/ניתוח שגיאות זמן בהעברת נתונים/Pressure/5/5_with_new_phonetime/005LeftPRE_T1_on_clean.csv → /content/drive/MyDrive/Master's degree/Insoles Project/ניתוח שגיאות זמן בהעברת נתונים/Pressure/5/5_with_delta_time/005LeftPRE_T1_on_clean_with_delta.csv  |  correction = 7200000.0\n",
            "⏭️  Skipped /content/drive/MyDrive/Master's degree/Insoles Project/ניתוח שגיאות זמן בהעברת נתונים/Pressure/5/5_with_new_phonetime/005RightPRE_T1_off_clean.csv  (delay_correction=7189929.0 not full hour)\n",
            "✔️  Processed: /content/drive/MyDrive/Master's degree/Insoles Project/ניתוח שגיאות זמן בהעברת נתונים/Pressure/5/5_with_new_phonetime/005RightPRE_T1_on_clean.csv → /content/drive/MyDrive/Master's degree/Insoles Project/ניתוח שגיאות זמן בהעברת נתונים/Pressure/5/5_with_delta_time/005RightPRE_T1_on_clean_with_delta.csv  |  correction = 7200000\n",
            "✔️  Processed: /content/drive/MyDrive/Master's degree/Insoles Project/ניתוח שגיאות זמן בהעברת נתונים/Pressure/8/8_with_new_phonetime/008LeftPRE_T0_unknown_clean.csv → /content/drive/MyDrive/Master's degree/Insoles Project/ניתוח שגיאות זמן בהעברת נתונים/Pressure/8/8_with_delta_time/008LeftPRE_T0_unknown_clean_with_delta.csv  |  correction = 10800000.0\n",
            "✔️  Processed: /content/drive/MyDrive/Master's degree/Insoles Project/ניתוח שגיאות זמן בהעברת נתונים/Pressure/8/8_with_new_phonetime/008RightPRE_T0_unknown_clean.csv → /content/drive/MyDrive/Master's degree/Insoles Project/ניתוח שגיאות זמן בהעברת נתונים/Pressure/8/8_with_delta_time/008RightPRE_T0_unknown_clean_with_delta.csv  |  correction = 10800000.0\n",
            "✔️  Processed: /content/drive/MyDrive/Master's degree/Insoles Project/ניתוח שגיאות זמן בהעברת נתונים/Pressure/9/9_with_new_phonetime/009LeftPRE_T1_unknown_clean.csv → /content/drive/MyDrive/Master's degree/Insoles Project/ניתוח שגיאות זמן בהעברת נתונים/Pressure/9/9_with_delta_time/009LeftPRE_T1_unknown_clean_with_delta.csv  |  correction = 10800000.0\n",
            "✔️  Processed: /content/drive/MyDrive/Master's degree/Insoles Project/ניתוח שגיאות זמן בהעברת נתונים/Pressure/9/9_with_new_phonetime/009RightPRE_T1_unknown_clean.csv → /content/drive/MyDrive/Master's degree/Insoles Project/ניתוח שגיאות זמן בהעברת נתונים/Pressure/9/9_with_delta_time/009RightPRE_T1_unknown_clean_with_delta.csv  |  correction = 10800000.0\n",
            "✔️  Processed: /content/drive/MyDrive/Master's degree/Insoles Project/ניתוח שגיאות זמן בהעברת נתונים/Pressure/11/11_with_new_phonetime/011RightPRE_T0_unknown_clean.csv → /content/drive/MyDrive/Master's degree/Insoles Project/ניתוח שגיאות זמן בהעברת נתונים/Pressure/11/11_with_delta_time/011RightPRE_T0_unknown_clean_with_delta.csv  |  correction = 10800000.0\n",
            "✔️  Processed: /content/drive/MyDrive/Master's degree/Insoles Project/ניתוח שגיאות זמן בהעברת נתונים/Pressure/11/11_with_new_phonetime/011LeftPRE_T0_unknown_clean.csv → /content/drive/MyDrive/Master's degree/Insoles Project/ניתוח שגיאות זמן בהעברת נתונים/Pressure/11/11_with_delta_time/011LeftPRE_T0_unknown_clean_with_delta.csv  |  correction = 10800000.0\n",
            "✔️  Processed: /content/drive/MyDrive/Master's degree/Insoles Project/ניתוח שגיאות זמן בהעברת נתונים/Pressure/12/12_with_new_phonetime/012LeftPRE_T1_off_clean.csv → /content/drive/MyDrive/Master's degree/Insoles Project/ניתוח שגיאות זמן בהעברת נתונים/Pressure/12/12_with_delta_time/012LeftPRE_T1_off_clean_with_delta.csv  |  correction = 7200000.0\n",
            "✔️  Processed: /content/drive/MyDrive/Master's degree/Insoles Project/ניתוח שגיאות זמן בהעברת נתונים/Pressure/12/12_with_new_phonetime/012LeftPRE_T1_on_clean.csv → /content/drive/MyDrive/Master's degree/Insoles Project/ניתוח שגיאות זמן בהעברת נתונים/Pressure/12/12_with_delta_time/012LeftPRE_T1_on_clean_with_delta.csv  |  correction = 7200000.0\n",
            "✔️  Processed: /content/drive/MyDrive/Master's degree/Insoles Project/ניתוח שגיאות זמן בהעברת נתונים/Pressure/12/12_with_new_phonetime/012RightPRE_T1_off_clean.csv → /content/drive/MyDrive/Master's degree/Insoles Project/ניתוח שגיאות זמן בהעברת נתונים/Pressure/12/12_with_delta_time/012RightPRE_T1_off_clean_with_delta.csv  |  correction = 7200000.0\n",
            "✔️  Processed: /content/drive/MyDrive/Master's degree/Insoles Project/ניתוח שגיאות זמן בהעברת נתונים/Pressure/12/12_with_new_phonetime/012RightPRE_T1_on_clean.csv → /content/drive/MyDrive/Master's degree/Insoles Project/ניתוח שגיאות זמן בהעברת נתונים/Pressure/12/12_with_delta_time/012RightPRE_T1_on_clean_with_delta.csv  |  correction = 7200000.0\n",
            "✔️  Processed: /content/drive/MyDrive/Master's degree/Insoles Project/ניתוח שגיאות זמן בהעברת נתונים/Pressure/12/12_with_new_phonetime/012LeftPRE_T0_unknown_clean.csv → /content/drive/MyDrive/Master's degree/Insoles Project/ניתוח שגיאות זמן בהעברת נתונים/Pressure/12/12_with_delta_time/012LeftPRE_T0_unknown_clean_with_delta.csv  |  correction = 10800000.0\n",
            "✔️  Processed: /content/drive/MyDrive/Master's degree/Insoles Project/ניתוח שגיאות זמן בהעברת נתונים/Pressure/12/12_with_new_phonetime/012RightPRE_T0_unknown_clean.csv → /content/drive/MyDrive/Master's degree/Insoles Project/ניתוח שגיאות זמן בהעברת נתונים/Pressure/12/12_with_delta_time/012RightPRE_T0_unknown_clean_with_delta.csv  |  correction = 10800000.0\n",
            "✔️  Processed: /content/drive/MyDrive/Master's degree/Insoles Project/ניתוח שגיאות זמן בהעברת נתונים/Pressure/14/14_with_new_phonetime/014LeftPRE_T1_off_clean.csv → /content/drive/MyDrive/Master's degree/Insoles Project/ניתוח שגיאות זמן בהעברת נתונים/Pressure/14/14_with_delta_time/014LeftPRE_T1_off_clean_with_delta.csv  |  correction = 7200000.0\n",
            "✔️  Processed: /content/drive/MyDrive/Master's degree/Insoles Project/ניתוח שגיאות זמן בהעברת נתונים/Pressure/14/14_with_new_phonetime/014LeftPRE_T1_on_clean.csv → /content/drive/MyDrive/Master's degree/Insoles Project/ניתוח שגיאות זמן בהעברת נתונים/Pressure/14/14_with_delta_time/014LeftPRE_T1_on_clean_with_delta.csv  |  correction = 7200000.0\n",
            "✔️  Processed: /content/drive/MyDrive/Master's degree/Insoles Project/ניתוח שגיאות זמן בהעברת נתונים/Pressure/14/14_with_new_phonetime/014RightPRE_T1_off_clean.csv → /content/drive/MyDrive/Master's degree/Insoles Project/ניתוח שגיאות זמן בהעברת נתונים/Pressure/14/14_with_delta_time/014RightPRE_T1_off_clean_with_delta.csv  |  correction = 7200000.0\n",
            "✔️  Processed: /content/drive/MyDrive/Master's degree/Insoles Project/ניתוח שגיאות זמן בהעברת נתונים/Pressure/14/14_with_new_phonetime/014RightPRE_T1_on_clean.csv → /content/drive/MyDrive/Master's degree/Insoles Project/ניתוח שגיאות זמן בהעברת נתונים/Pressure/14/14_with_delta_time/014RightPRE_T1_on_clean_with_delta.csv  |  correction = 7200000.0\n",
            "✔️  Processed: /content/drive/MyDrive/Master's degree/Insoles Project/ניתוח שגיאות זמן בהעברת נתונים/Pressure/16/16_with_new_phonetime/016RightPRE_T2_on_clean.csv → /content/drive/MyDrive/Master's degree/Insoles Project/ניתוח שגיאות זמן בהעברת נתונים/Pressure/16/16_with_delta_time/016RightPRE_T2_on_clean_with_delta.csv  |  correction = 10800000.0\n",
            "✔️  Processed: /content/drive/MyDrive/Master's degree/Insoles Project/ניתוח שגיאות זמן בהעברת נתונים/Pressure/16/16_with_new_phonetime/016LeftPRE_T1_off_clean.csv → /content/drive/MyDrive/Master's degree/Insoles Project/ניתוח שגיאות זמן בהעברת נתונים/Pressure/16/16_with_delta_time/016LeftPRE_T1_off_clean_with_delta.csv  |  correction = 10800000.0\n",
            "✔️  Processed: /content/drive/MyDrive/Master's degree/Insoles Project/ניתוח שגיאות זמן בהעברת נתונים/Pressure/16/16_with_new_phonetime/016LeftPRE_T1_on_clean.csv → /content/drive/MyDrive/Master's degree/Insoles Project/ניתוח שגיאות זמן בהעברת נתונים/Pressure/16/16_with_delta_time/016LeftPRE_T1_on_clean_with_delta.csv  |  correction = 10800000.0\n",
            "✔️  Processed: /content/drive/MyDrive/Master's degree/Insoles Project/ניתוח שגיאות זמן בהעברת נתונים/Pressure/16/16_with_new_phonetime/016LeftPRE_T2_off_clean.csv → /content/drive/MyDrive/Master's degree/Insoles Project/ניתוח שגיאות זמן בהעברת נתונים/Pressure/16/16_with_delta_time/016LeftPRE_T2_off_clean_with_delta.csv  |  correction = 10800000.0\n",
            "✔️  Processed: /content/drive/MyDrive/Master's degree/Insoles Project/ניתוח שגיאות זמן בהעברת נתונים/Pressure/16/16_with_new_phonetime/016LeftPRE_T2_on_clean.csv → /content/drive/MyDrive/Master's degree/Insoles Project/ניתוח שגיאות זמן בהעברת נתונים/Pressure/16/16_with_delta_time/016LeftPRE_T2_on_clean_with_delta.csv  |  correction = 10800000.0\n",
            "✔️  Processed: /content/drive/MyDrive/Master's degree/Insoles Project/ניתוח שגיאות זמן בהעברת נתונים/Pressure/16/16_with_new_phonetime/016RightPRE_T1_off_clean.csv → /content/drive/MyDrive/Master's degree/Insoles Project/ניתוח שגיאות זמן בהעברת נתונים/Pressure/16/16_with_delta_time/016RightPRE_T1_off_clean_with_delta.csv  |  correction = 10800000.0\n",
            "✔️  Processed: /content/drive/MyDrive/Master's degree/Insoles Project/ניתוח שגיאות זמן בהעברת נתונים/Pressure/16/16_with_new_phonetime/016RightPRE_T1_on_clean.csv → /content/drive/MyDrive/Master's degree/Insoles Project/ניתוח שגיאות זמן בהעברת נתונים/Pressure/16/16_with_delta_time/016RightPRE_T1_on_clean_with_delta.csv  |  correction = 10800000.0\n",
            "✔️  Processed: /content/drive/MyDrive/Master's degree/Insoles Project/ניתוח שגיאות זמן בהעברת נתונים/Pressure/16/16_with_new_phonetime/016RightPRE_T2_off_clean.csv → /content/drive/MyDrive/Master's degree/Insoles Project/ניתוח שגיאות זמן בהעברת נתונים/Pressure/16/16_with_delta_time/016RightPRE_T2_off_clean_with_delta.csv  |  correction = 10800000.0\n",
            "✔️  Processed: /content/drive/MyDrive/Master's degree/Insoles Project/ניתוח שגיאות זמן בהעברת נתונים/Pressure/17/17_with_new_phonetime/017LeftPRE_T1_off_clean.csv → /content/drive/MyDrive/Master's degree/Insoles Project/ניתוח שגיאות זמן בהעברת נתונים/Pressure/17/17_with_delta_time/017LeftPRE_T1_off_clean_with_delta.csv  |  correction = 10800000.0\n",
            "✔️  Processed: /content/drive/MyDrive/Master's degree/Insoles Project/ניתוח שגיאות זמן בהעברת נתונים/Pressure/17/17_with_new_phonetime/017LeftPRE_T1_on_clean.csv → /content/drive/MyDrive/Master's degree/Insoles Project/ניתוח שגיאות זמן בהעברת נתונים/Pressure/17/17_with_delta_time/017LeftPRE_T1_on_clean_with_delta.csv  |  correction = 10800000.0\n",
            "✔️  Processed: /content/drive/MyDrive/Master's degree/Insoles Project/ניתוח שגיאות זמן בהעברת נתונים/Pressure/17/17_with_new_phonetime/017LeftPRE_T2_on_clean.csv → /content/drive/MyDrive/Master's degree/Insoles Project/ניתוח שגיאות זמן בהעברת נתונים/Pressure/17/17_with_delta_time/017LeftPRE_T2_on_clean_with_delta.csv  |  correction = 10800000.0\n",
            "✔️  Processed: /content/drive/MyDrive/Master's degree/Insoles Project/ניתוח שגיאות זמן בהעברת נתונים/Pressure/17/17_with_new_phonetime/017LeftPRE_T2_off_clean.csv → /content/drive/MyDrive/Master's degree/Insoles Project/ניתוח שגיאות זמן בהעברת נתונים/Pressure/17/17_with_delta_time/017LeftPRE_T2_off_clean_with_delta.csv  |  correction = 10800000.0\n",
            "✔️  Processed: /content/drive/MyDrive/Master's degree/Insoles Project/ניתוח שגיאות זמן בהעברת נתונים/Pressure/17/17_with_new_phonetime/017RightPRE_T1_off_clean.csv → /content/drive/MyDrive/Master's degree/Insoles Project/ניתוח שגיאות זמן בהעברת נתונים/Pressure/17/17_with_delta_time/017RightPRE_T1_off_clean_with_delta.csv  |  correction = 10800000.0\n",
            "✔️  Processed: /content/drive/MyDrive/Master's degree/Insoles Project/ניתוח שגיאות זמן בהעברת נתונים/Pressure/17/17_with_new_phonetime/017RightPRE_T1_on_clean.csv → /content/drive/MyDrive/Master's degree/Insoles Project/ניתוח שגיאות זמן בהעברת נתונים/Pressure/17/17_with_delta_time/017RightPRE_T1_on_clean_with_delta.csv  |  correction = 10800000.0\n",
            "✔️  Processed: /content/drive/MyDrive/Master's degree/Insoles Project/ניתוח שגיאות זמן בהעברת נתונים/Pressure/17/17_with_new_phonetime/017RightPRE_T2_off_clean.csv → /content/drive/MyDrive/Master's degree/Insoles Project/ניתוח שגיאות זמן בהעברת נתונים/Pressure/17/17_with_delta_time/017RightPRE_T2_off_clean_with_delta.csv  |  correction = 10800000.0\n",
            "✔️  Processed: /content/drive/MyDrive/Master's degree/Insoles Project/ניתוח שגיאות זמן בהעברת נתונים/Pressure/17/17_with_new_phonetime/017RightPRE_T2_on_clean.csv → /content/drive/MyDrive/Master's degree/Insoles Project/ניתוח שגיאות זמן בהעברת נתונים/Pressure/17/17_with_delta_time/017RightPRE_T2_on_clean_with_delta.csv  |  correction = 10800000.0\n",
            "✔️  Processed: /content/drive/MyDrive/Master's degree/Insoles Project/ניתוח שגיאות זמן בהעברת נתונים/Pressure/18/18_with_new_phonetime/018LeftPRE_T2_on_clean.csv → /content/drive/MyDrive/Master's degree/Insoles Project/ניתוח שגיאות זמן בהעברת נתונים/Pressure/18/18_with_delta_time/018LeftPRE_T2_on_clean_with_delta.csv  |  correction = 10800000.0\n",
            "✔️  Processed: /content/drive/MyDrive/Master's degree/Insoles Project/ניתוח שגיאות זמן בהעברת נתונים/Pressure/18/18_with_new_phonetime/018RightPRE_T2_on_clean.csv → /content/drive/MyDrive/Master's degree/Insoles Project/ניתוח שגיאות זמן בהעברת נתונים/Pressure/18/18_with_delta_time/018RightPRE_T2_on_clean_with_delta.csv  |  correction = 10800000.0\n",
            "✔️  Processed: /content/drive/MyDrive/Master's degree/Insoles Project/ניתוח שגיאות זמן בהעברת נתונים/IMU/2/2_with_new_phonetime/2025_05_26_12_58_34_469LeftACC_clean.csv → /content/drive/MyDrive/Master's degree/Insoles Project/ניתוח שגיאות זמן בהעברת נתונים/IMU/2/2_with_delta_time/2025_05_26_12_58_34_469LeftACC_clean_with_delta.csv  |  correction = 10800000.0\n",
            "✔️  Processed: /content/drive/MyDrive/Master's degree/Insoles Project/ניתוח שגיאות זמן בהעברת נתונים/IMU/2/2_with_new_phonetime/2025_05_26_12_58_34_469RightACC_clean.csv → /content/drive/MyDrive/Master's degree/Insoles Project/ניתוח שגיאות זמן בהעברת נתונים/IMU/2/2_with_delta_time/2025_05_26_12_58_34_469RightACC_clean_with_delta.csv  |  correction = 10800000.0\n",
            "✔️  Processed: /content/drive/MyDrive/Master's degree/Insoles Project/ניתוח שגיאות זמן בהעברת נתונים/IMU/3/3_with_new_phonetime/2025_05_08_12_05_12_884LeftACC_clean.csv → /content/drive/MyDrive/Master's degree/Insoles Project/ניתוח שגיאות זמן בהעברת נתונים/IMU/3/3_with_delta_time/2025_05_08_12_05_12_884LeftACC_clean_with_delta.csv  |  correction = 10800000.0\n",
            "✔️  Processed: /content/drive/MyDrive/Master's degree/Insoles Project/ניתוח שגיאות זמן בהעברת נתונים/IMU/3/3_with_new_phonetime/2025_05_08_12_05_12_884RightACC_clean.csv → /content/drive/MyDrive/Master's degree/Insoles Project/ניתוח שגיאות זמן בהעברת נתונים/IMU/3/3_with_delta_time/2025_05_08_12_05_12_884RightACC_clean_with_delta.csv  |  correction = 10800000.0\n",
            "⏭️  Skipped /content/drive/MyDrive/Master's degree/Insoles Project/ניתוח שגיאות זמן בהעברת נתונים/IMU/5/5_with_new_phonetime/2024_11_07_09_08_00_142LeftACC_clean.csv  (delay_correction=7190042.0 not full hour)\n",
            "✔️  Processed: /content/drive/MyDrive/Master's degree/Insoles Project/ניתוח שגיאות זמן בהעברת נתונים/IMU/5/5_with_new_phonetime/2024_11_07_11_06_21_482RightACC_clean.csv → /content/drive/MyDrive/Master's degree/Insoles Project/ניתוח שגיאות זמן בהעברת נתונים/IMU/5/5_with_delta_time/2024_11_07_11_06_21_482RightACC_clean_with_delta.csv  |  correction = 7200000.0\n",
            "✔️  Processed: /content/drive/MyDrive/Master's degree/Insoles Project/ניתוח שגיאות זמן בהעברת נתונים/IMU/5/5_with_new_phonetime/2024_11_07_11_06_21_482LeftACC_clean.csv → /content/drive/MyDrive/Master's degree/Insoles Project/ניתוח שגיאות זמן בהעברת נתונים/IMU/5/5_with_delta_time/2024_11_07_11_06_21_482LeftACC_clean_with_delta.csv  |  correction = 7200000.0\n",
            "⏭️  Skipped /content/drive/MyDrive/Master's degree/Insoles Project/ניתוח שגיאות זמן בהעברת נתונים/IMU/5/5_with_new_phonetime/2024_11_07_09_08_00_142RightACC_clean.csv  (delay_correction=7189929.0 not full hour)\n",
            "✔️  Processed: /content/drive/MyDrive/Master's degree/Insoles Project/ניתוח שגיאות זמן בהעברת נתונים/IMU/8/8_with_new_phonetime/2025_05_28_13_13_34_381LeftACC_clean.csv → /content/drive/MyDrive/Master's degree/Insoles Project/ניתוח שגיאות זמן בהעברת נתונים/IMU/8/8_with_delta_time/2025_05_28_13_13_34_381LeftACC_clean_with_delta.csv  |  correction = 10800000.0\n",
            "✔️  Processed: /content/drive/MyDrive/Master's degree/Insoles Project/ניתוח שגיאות זמן בהעברת נתונים/IMU/8/8_with_new_phonetime/2025_05_28_13_13_34_381RightACC_clean.csv → /content/drive/MyDrive/Master's degree/Insoles Project/ניתוח שגיאות זמן בהעברת נתונים/IMU/8/8_with_delta_time/2025_05_28_13_13_34_381RightACC_clean_with_delta.csv  |  correction = 10800000.0\n",
            "✔️  Processed: /content/drive/MyDrive/Master's degree/Insoles Project/ניתוח שגיאות זמן בהעברת נתונים/IMU/9/9_with_new_phonetime/2025_07_09_12_53_04_524LeftACC_clean.csv → /content/drive/MyDrive/Master's degree/Insoles Project/ניתוח שגיאות זמן בהעברת נתונים/IMU/9/9_with_delta_time/2025_07_09_12_53_04_524LeftACC_clean_with_delta.csv  |  correction = 10800000.0\n",
            "✔️  Processed: /content/drive/MyDrive/Master's degree/Insoles Project/ניתוח שגיאות זמן בהעברת נתונים/IMU/9/9_with_new_phonetime/2025_07_09_12_53_04_524RightACC_clean.csv → /content/drive/MyDrive/Master's degree/Insoles Project/ניתוח שגיאות זמן בהעברת נתונים/IMU/9/9_with_delta_time/2025_07_09_12_53_04_524RightACC_clean_with_delta.csv  |  correction = 10800000.0\n",
            "✔️  Processed: /content/drive/MyDrive/Master's degree/Insoles Project/ניתוח שגיאות זמן בהעברת נתונים/IMU/11/11_with_new_phonetime/2025_05_07_11_41_22_126LeftACC_clean.csv → /content/drive/MyDrive/Master's degree/Insoles Project/ניתוח שגיאות זמן בהעברת נתונים/IMU/11/11_with_delta_time/2025_05_07_11_41_22_126LeftACC_clean_with_delta.csv  |  correction = 10800000.0\n",
            "✔️  Processed: /content/drive/MyDrive/Master's degree/Insoles Project/ניתוח שגיאות זמן בהעברת נתונים/IMU/11/11_with_new_phonetime/2025_05_07_11_41_22_126RightACC_clean.csv → /content/drive/MyDrive/Master's degree/Insoles Project/ניתוח שגיאות זמן בהעברת נתונים/IMU/11/11_with_delta_time/2025_05_07_11_41_22_126RightACC_clean_with_delta.csv  |  correction = 10800000.0\n",
            "✔️  Processed: /content/drive/MyDrive/Master's degree/Insoles Project/ניתוח שגיאות זמן בהעברת נתונים/IMU/12/12_with_new_phonetime/2025_05_18_11_08_23_655LeftACC_clean.csv → /content/drive/MyDrive/Master's degree/Insoles Project/ניתוח שגיאות זמן בהעברת נתונים/IMU/12/12_with_delta_time/2025_05_18_11_08_23_655LeftACC_clean_with_delta.csv  |  correction = 10800000.0\n",
            "✔️  Processed: /content/drive/MyDrive/Master's degree/Insoles Project/ניתוח שגיאות זמן בהעברת נתונים/IMU/12/12_with_new_phonetime/2025_05_18_11_08_23_655RightACC_clean.csv → /content/drive/MyDrive/Master's degree/Insoles Project/ניתוח שגיאות זמן בהעברת נתונים/IMU/12/12_with_delta_time/2025_05_18_11_08_23_655RightACC_clean_with_delta.csv  |  correction = 10800000.0\n",
            "✔️  Processed: /content/drive/MyDrive/Master's degree/Insoles Project/ניתוח שגיאות זמן בהעברת נתונים/IMU/12/12_with_new_phonetime/2025_01_23_10_45_11_105LeftACC_clean.csv → /content/drive/MyDrive/Master's degree/Insoles Project/ניתוח שגיאות זמן בהעברת נתונים/IMU/12/12_with_delta_time/2025_01_23_10_45_11_105LeftACC_clean_with_delta.csv  |  correction = 7200000.0\n",
            "✔️  Processed: /content/drive/MyDrive/Master's degree/Insoles Project/ניתוח שגיאות זמן בהעברת נתונים/IMU/12/12_with_new_phonetime/2025_01_23_13_04_44_680RightACC_clean.csv → /content/drive/MyDrive/Master's degree/Insoles Project/ניתוח שגיאות זמן בהעברת נתונים/IMU/12/12_with_delta_time/2025_01_23_13_04_44_680RightACC_clean_with_delta.csv  |  correction = 7200000.0\n",
            "✔️  Processed: /content/drive/MyDrive/Master's degree/Insoles Project/ניתוח שגיאות זמן בהעברת נתונים/IMU/12/12_with_new_phonetime/2025_01_23_13_04_44_680LeftACC_clean.csv → /content/drive/MyDrive/Master's degree/Insoles Project/ניתוח שגיאות זמן בהעברת נתונים/IMU/12/12_with_delta_time/2025_01_23_13_04_44_680LeftACC_clean_with_delta.csv  |  correction = 7200000.0\n",
            "✔️  Processed: /content/drive/MyDrive/Master's degree/Insoles Project/ניתוח שגיאות זמן בהעברת נתונים/IMU/12/12_with_new_phonetime/2025_01_23_10_45_11_105RightACC_clean.csv → /content/drive/MyDrive/Master's degree/Insoles Project/ניתוח שגיאות זמן בהעברת נתונים/IMU/12/12_with_delta_time/2025_01_23_10_45_11_105RightACC_clean_with_delta.csv  |  correction = 7200000.0\n",
            "✔️  Processed: /content/drive/MyDrive/Master's degree/Insoles Project/ניתוח שגיאות זמן בהעברת נתונים/IMU/14/14_with_new_phonetime/2025_02_13_09_44_26_951RightACC_clean.csv → /content/drive/MyDrive/Master's degree/Insoles Project/ניתוח שגיאות זמן בהעברת נתונים/IMU/14/14_with_delta_time/2025_02_13_09_44_26_951RightACC_clean_with_delta.csv  |  correction = 7200000.0\n",
            "✔️  Processed: /content/drive/MyDrive/Master's degree/Insoles Project/ניתוח שגיאות זמן בהעברת נתונים/IMU/14/14_with_new_phonetime/2025_02_13_09_44_26_951LeftACC_clean.csv → /content/drive/MyDrive/Master's degree/Insoles Project/ניתוח שגיאות זמן בהעברת נתונים/IMU/14/14_with_delta_time/2025_02_13_09_44_26_951LeftACC_clean_with_delta.csv  |  correction = 7200000.0\n",
            "✔️  Processed: /content/drive/MyDrive/Master's degree/Insoles Project/ניתוח שגיאות זמן בהעברת נתונים/IMU/14/14_with_new_phonetime/2025_02_13_11_12_19_678RightACC_clean.csv → /content/drive/MyDrive/Master's degree/Insoles Project/ניתוח שגיאות זמן בהעברת נתונים/IMU/14/14_with_delta_time/2025_02_13_11_12_19_678RightACC_clean_with_delta.csv  |  correction = 7200000.0\n",
            "✔️  Processed: /content/drive/MyDrive/Master's degree/Insoles Project/ניתוח שגיאות זמן בהעברת נתונים/IMU/14/14_with_new_phonetime/2025_02_13_11_12_19_678LeftACC_clean.csv → /content/drive/MyDrive/Master's degree/Insoles Project/ניתוח שגיאות זמן בהעברת נתונים/IMU/14/14_with_delta_time/2025_02_13_11_12_19_678LeftACC_clean_with_delta.csv  |  correction = 7200000.0\n",
            "✔️  Processed: /content/drive/MyDrive/Master's degree/Insoles Project/ניתוח שגיאות זמן בהעברת נתונים/IMU/15/15_with_new_phonetime/2025_03_26_10_26_43_944LeftACC_clean.csv → /content/drive/MyDrive/Master's degree/Insoles Project/ניתוח שגיאות זמן בהעברת נתונים/IMU/15/15_with_delta_time/2025_03_26_10_26_43_944LeftACC_clean_with_delta.csv  |  correction = 7200000.0\n",
            "✔️  Processed: /content/drive/MyDrive/Master's degree/Insoles Project/ניתוח שגיאות זמן בהעברת נתונים/IMU/15/15_with_new_phonetime/2025_03_26_10_26_43_944RightACC_clean.csv → /content/drive/MyDrive/Master's degree/Insoles Project/ניתוח שגיאות זמן בהעברת נתונים/IMU/15/15_with_delta_time/2025_03_26_10_26_43_944RightACC_clean_with_delta.csv  |  correction = 7200000.0\n",
            "✔️  Processed: /content/drive/MyDrive/Master's degree/Insoles Project/ניתוח שגיאות זמן בהעברת נתונים/IMU/15/15_with_new_phonetime/2025_03_26_11_46_13_293RightACC_clean.csv → /content/drive/MyDrive/Master's degree/Insoles Project/ניתוח שגיאות זמן בהעברת נתונים/IMU/15/15_with_delta_time/2025_03_26_11_46_13_293RightACC_clean_with_delta.csv  |  correction = 7200000.0\n",
            "✔️  Processed: /content/drive/MyDrive/Master's degree/Insoles Project/ניתוח שגיאות זמן בהעברת נתונים/IMU/15/15_with_new_phonetime/2025_03_26_11_46_13_293LeftACC_clean.csv → /content/drive/MyDrive/Master's degree/Insoles Project/ניתוח שגיאות זמן בהעברת נתונים/IMU/15/15_with_delta_time/2025_03_26_11_46_13_293LeftACC_clean_with_delta.csv  |  correction = 7200000.0\n",
            "✔️  Processed: /content/drive/MyDrive/Master's degree/Insoles Project/ניתוח שגיאות זמן בהעברת נתונים/IMU/16/16_with_new_phonetime/2025_04_02_10_29_24_164LeftACC_clean.csv → /content/drive/MyDrive/Master's degree/Insoles Project/ניתוח שגיאות זמן בהעברת נתונים/IMU/16/16_with_delta_time/2025_04_02_10_29_24_164LeftACC_clean_with_delta.csv  |  correction = 10800000.0\n",
            "✔️  Processed: /content/drive/MyDrive/Master's degree/Insoles Project/ניתוח שגיאות זמן בהעברת נתונים/IMU/16/16_with_new_phonetime/2025_04_02_10_29_24_164RightACC_clean.csv → /content/drive/MyDrive/Master's degree/Insoles Project/ניתוח שגיאות זמן בהעברת נתונים/IMU/16/16_with_delta_time/2025_04_02_10_29_24_164RightACC_clean_with_delta.csv  |  correction = 10800000.0\n",
            "✔️  Processed: /content/drive/MyDrive/Master's degree/Insoles Project/ניתוח שגיאות זמן בהעברת נתונים/IMU/16/16_with_new_phonetime/2025_04_02_12_15_05_225RightACC_clean.csv → /content/drive/MyDrive/Master's degree/Insoles Project/ניתוח שגיאות זמן בהעברת נתונים/IMU/16/16_with_delta_time/2025_04_02_12_15_05_225RightACC_clean_with_delta.csv  |  correction = 10800000.0\n",
            "✔️  Processed: /content/drive/MyDrive/Master's degree/Insoles Project/ניתוח שגיאות זמן בהעברת נתונים/IMU/16/16_with_new_phonetime/2025_04_02_12_15_05_225LeftACC_clean.csv → /content/drive/MyDrive/Master's degree/Insoles Project/ניתוח שגיאות זמן בהעברת נתונים/IMU/16/16_with_delta_time/2025_04_02_12_15_05_225LeftACC_clean_with_delta.csv  |  correction = 10800000.0\n",
            "✔️  Processed: /content/drive/MyDrive/Master's degree/Insoles Project/ניתוח שגיאות זמן בהעברת נתונים/IMU/16/16_with_new_phonetime/2025_04_10_11_23_34_680RightACC_clean.csv → /content/drive/MyDrive/Master's degree/Insoles Project/ניתוח שגיאות זמן בהעברת נתונים/IMU/16/16_with_delta_time/2025_04_10_11_23_34_680RightACC_clean_with_delta.csv  |  correction = 10800000.0\n",
            "✔️  Processed: /content/drive/MyDrive/Master's degree/Insoles Project/ניתוח שגיאות זמן בהעברת נתונים/IMU/16/16_with_new_phonetime/2025_04_10_11_23_34_680LeftACC_clean.csv → /content/drive/MyDrive/Master's degree/Insoles Project/ניתוח שגיאות זמן בהעברת נתונים/IMU/16/16_with_delta_time/2025_04_10_11_23_34_680LeftACC_clean_with_delta.csv  |  correction = 10800000.0\n",
            "✔️  Processed: /content/drive/MyDrive/Master's degree/Insoles Project/ניתוח שגיאות זמן בהעברת נתונים/IMU/16/16_with_new_phonetime/2025_04_10_09_48_00_409RightACC_clean.csv → /content/drive/MyDrive/Master's degree/Insoles Project/ניתוח שגיאות זמן בהעברת נתונים/IMU/16/16_with_delta_time/2025_04_10_09_48_00_409RightACC_clean_with_delta.csv  |  correction = 10800000.0\n",
            "✔️  Processed: /content/drive/MyDrive/Master's degree/Insoles Project/ניתוח שגיאות זמן בהעברת נתונים/IMU/16/16_with_new_phonetime/2025_04_10_09_48_00_409LeftACC_clean.csv → /content/drive/MyDrive/Master's degree/Insoles Project/ניתוח שגיאות זמן בהעברת נתונים/IMU/16/16_with_delta_time/2025_04_10_09_48_00_409LeftACC_clean_with_delta.csv  |  correction = 10800000.0\n",
            "✔️  Processed: /content/drive/MyDrive/Master's degree/Insoles Project/ניתוח שגיאות זמן בהעברת נתונים/IMU/17/17_with_new_phonetime/2025_04_24_08_42_03_438LeftACC_clean.csv → /content/drive/MyDrive/Master's degree/Insoles Project/ניתוח שגיאות זמן בהעברת נתונים/IMU/17/17_with_delta_time/2025_04_24_08_42_03_438LeftACC_clean_with_delta.csv  |  correction = 10800000.0\n",
            "✔️  Processed: /content/drive/MyDrive/Master's degree/Insoles Project/ניתוח שגיאות זמן בהעברת נתונים/IMU/17/17_with_new_phonetime/2025_04_24_08_42_03_438RightACC_clean.csv → /content/drive/MyDrive/Master's degree/Insoles Project/ניתוח שגיאות זמן בהעברת נתונים/IMU/17/17_with_delta_time/2025_04_24_08_42_03_438RightACC_clean_with_delta.csv  |  correction = 10800000.0\n",
            "✔️  Processed: /content/drive/MyDrive/Master's degree/Insoles Project/ניתוח שגיאות זמן בהעברת נתונים/IMU/17/17_with_new_phonetime/2025_04_24_10_43_59_103LeftACC_clean.csv → /content/drive/MyDrive/Master's degree/Insoles Project/ניתוח שגיאות זמן בהעברת נתונים/IMU/17/17_with_delta_time/2025_04_24_10_43_59_103LeftACC_clean_with_delta.csv  |  correction = 10800000.0\n",
            "✔️  Processed: /content/drive/MyDrive/Master's degree/Insoles Project/ניתוח שגיאות זמן בהעברת נתונים/IMU/17/17_with_new_phonetime/2025_05_07_10_30_27_271LeftACC_clean.csv → /content/drive/MyDrive/Master's degree/Insoles Project/ניתוח שגיאות זמן בהעברת נתונים/IMU/17/17_with_delta_time/2025_05_07_10_30_27_271LeftACC_clean_with_delta.csv  |  correction = 10800000.0\n",
            "✔️  Processed: /content/drive/MyDrive/Master's degree/Insoles Project/ניתוח שגיאות זמן בהעברת נתונים/IMU/17/17_with_new_phonetime/2025_05_07_08_36_55_504RightACC_clean.csv → /content/drive/MyDrive/Master's degree/Insoles Project/ניתוח שגיאות זמן בהעברת נתונים/IMU/17/17_with_delta_time/2025_05_07_08_36_55_504RightACC_clean_with_delta.csv  |  correction = 10800000.0\n",
            "✔️  Processed: /content/drive/MyDrive/Master's degree/Insoles Project/ניתוח שגיאות זמן בהעברת נתונים/IMU/17/17_with_new_phonetime/2025_05_07_08_36_55_504LeftACC_clean.csv → /content/drive/MyDrive/Master's degree/Insoles Project/ניתוח שגיאות זמן בהעברת נתונים/IMU/17/17_with_delta_time/2025_05_07_08_36_55_504LeftACC_clean_with_delta.csv  |  correction = 10800000.0\n",
            "✔️  Processed: /content/drive/MyDrive/Master's degree/Insoles Project/ניתוח שגיאות זמן בהעברת נתונים/IMU/17/17_with_new_phonetime/2025_04_24_10_43_59_103RightACC_clean.csv → /content/drive/MyDrive/Master's degree/Insoles Project/ניתוח שגיאות זמן בהעברת נתונים/IMU/17/17_with_delta_time/2025_04_24_10_43_59_103RightACC_clean_with_delta.csv  |  correction = 10800000.0\n",
            "✔️  Processed: /content/drive/MyDrive/Master's degree/Insoles Project/ניתוח שגיאות זמן בהעברת נתונים/IMU/17/17_with_new_phonetime/2025_05_07_10_30_27_271RightACC_clean.csv → /content/drive/MyDrive/Master's degree/Insoles Project/ניתוח שגיאות זמן בהעברת נתונים/IMU/17/17_with_delta_time/2025_05_07_10_30_27_271RightACC_clean_with_delta.csv  |  correction = 10800000.0\n",
            "✔️  Processed: /content/drive/MyDrive/Master's degree/Insoles Project/ניתוח שגיאות זמן בהעברת נתונים/IMU/18/18_with_new_phonetime/2025_07_10_13_40_51_335LeftACC_clean.csv → /content/drive/MyDrive/Master's degree/Insoles Project/ניתוח שגיאות זמן בהעברת נתונים/IMU/18/18_with_delta_time/2025_07_10_13_40_51_335LeftACC_clean_with_delta.csv  |  correction = 10800000.0\n",
            "✔️  Processed: /content/drive/MyDrive/Master's degree/Insoles Project/ניתוח שגיאות זמן בהעברת נתונים/IMU/18/18_with_new_phonetime/2025_07_10_13_40_51_335RightACC_clean.csv → /content/drive/MyDrive/Master's degree/Insoles Project/ניתוח שגיאות זמן בהעברת נתונים/IMU/18/18_with_delta_time/2025_07_10_13_40_51_335RightACC_clean_with_delta.csv  |  correction = 10800000.0\n",
            "\n",
            "===== PRESSURE SENSOR =====\n",
            "\n",
            "q75 per file (low → high):\n",
            "  32.00 ms | 016LeftPRE_T2_off_clean_with_delta.csv | P16\n",
            "  32.00 ms | 018LeftPRE_T2_on_clean_with_delta.csv | P18\n",
            "  33.00 ms | 016LeftPRE_T2_on_clean_with_delta.csv | P16\n",
            "  33.00 ms | 014LeftPRE_T1_off_clean_with_delta.csv | P14\n",
            "  34.00 ms | 014RightPRE_T1_off_clean_with_delta.csv | P14\n",
            "  34.00 ms | 016RightPRE_T2_on_clean_with_delta.csv | P16\n",
            "  34.00 ms | 017RightPRE_T2_on_clean_with_delta.csv | P17\n",
            "  34.00 ms | 014LeftPRE_T1_on_clean_with_delta.csv | P14\n",
            "  35.00 ms | 017RightPRE_T1_on_clean_with_delta.csv | P17\n",
            "  35.00 ms | 017LeftPRE_T1_on_clean_with_delta.csv | P17\n",
            "  35.00 ms | 008RightPRE_T0_unknown_clean_with_delta.csv | P8\n",
            "  35.00 ms | 018RightPRE_T2_on_clean_with_delta.csv | P18\n",
            "  35.00 ms | 005RightPRE_T1_on_clean_with_delta.csv | P5\n",
            "  37.00 ms | 005LeftPRE_T1_on_clean_with_delta.csv | P5\n",
            "  37.00 ms | 016RightPRE_T2_off_clean_with_delta.csv | P16\n",
            "  39.00 ms | 016RightPRE_T1_on_clean_with_delta.csv | P16\n",
            "  39.00 ms | 017RightPRE_T1_off_clean_with_delta.csv | P17\n",
            "  39.00 ms | 012RightPRE_T1_off_clean_with_delta.csv | P12\n",
            "  41.00 ms | 002RightPRE_T1_unknown_clean_with_delta.csv | P2\n",
            "  42.00 ms | 017RightPRE_T2_off_clean_with_delta.csv | P17\n",
            "  42.00 ms | 012LeftPRE_T1_off_clean_with_delta.csv | P12\n",
            "  43.00 ms | 009LeftPRE_T1_unknown_clean_with_delta.csv | P9\n",
            "  44.00 ms | 017LeftPRE_T2_off_clean_with_delta.csv | P17\n",
            "  45.00 ms | 008LeftPRE_T0_unknown_clean_with_delta.csv | P8\n",
            "  45.00 ms | 017LeftPRE_T1_off_clean_with_delta.csv | P17\n",
            "  45.00 ms | 012LeftPRE_T1_on_clean_with_delta.csv | P12\n",
            "  47.00 ms | 017LeftPRE_T2_on_clean_with_delta.csv | P17\n",
            "  55.00 ms | 012RightPRE_T1_on_clean_with_delta.csv | P12\n",
            "  62.00 ms | 014RightPRE_T1_on_clean_with_delta.csv | P14\n",
            "  62.00 ms | 009RightPRE_T1_unknown_clean_with_delta.csv | P9\n",
            "  71.00 ms | 011LeftPRE_T0_unknown_clean_with_delta.csv | P11\n",
            "  75.00 ms | 003LeftPRE_T0_unknown_clean_with_delta.csv | P3\n",
            "  81.00 ms | 012LeftPRE_T0_unknown_clean_with_delta.csv | P12\n",
            "  96.00 ms | 012RightPRE_T0_unknown_clean_with_delta.csv | P12\n",
            "  99.00 ms | 003RightPRE_T0_unknown_clean_with_delta.csv | P3\n",
            " 122.00 ms | 011RightPRE_T0_unknown_clean_with_delta.csv | P11\n",
            " 215.00 ms | 002LeftPRE_T1_unknown_clean_with_delta.csv | P2\n",
            " 325.00 ms | 016LeftPRE_T1_on_clean_with_delta.csv | P16\n",
            " 380.00 ms | 016LeftPRE_T1_off_clean_with_delta.csv | P16\n",
            " 393.25 ms | 016RightPRE_T1_off_clean_with_delta.csv | P16\n",
            "\n",
            "GLOBAL 75-percentile of all delta_time = 70.00 ms\n",
            "\n",
            "── Stats on q75 list ──\n",
            "Q1  (25-th pct) : 35.00 ms\n",
            "Q3  (75-th pct) : 64.25 ms\n",
            "IQR (Q3-Q1)     : 29.25 ms\n",
            "Upper fence     : 108.12 ms\n",
            "\n",
            "⚠️  Files whose q75 is ABOVE the upper-fence:\n",
            "  122.00 ms | 011RightPRE_T0_unknown_clean_with_delta.csv | P11\n",
            "  215.00 ms | 002LeftPRE_T1_unknown_clean_with_delta.csv | P2\n",
            "  325.00 ms | 016LeftPRE_T1_on_clean_with_delta.csv | P16\n",
            "  380.00 ms | 016LeftPRE_T1_off_clean_with_delta.csv | P16\n",
            "  393.25 ms | 016RightPRE_T1_off_clean_with_delta.csv | P16\n",
            "\n",
            "===== IMU SENSOR =====\n",
            "\n",
            "q75 per file (low → high):\n",
            "  33.00 ms | 2025_02_13_09_44_26_951RightACC_clean_with_delta.csv | P14\n",
            "  33.00 ms | 2025_04_10_09_48_00_409LeftACC_clean_with_delta.csv | P16\n",
            "  34.00 ms | 2025_04_10_11_23_34_680LeftACC_clean_with_delta.csv | P16\n",
            "  34.00 ms | 2025_02_13_09_44_26_951LeftACC_clean_with_delta.csv | P14\n",
            "  35.00 ms | 2025_04_02_12_15_05_225RightACC_clean_with_delta.csv | P16\n",
            "  35.00 ms | 2025_04_10_11_23_34_680RightACC_clean_with_delta.csv | P16\n",
            "  35.00 ms | 2025_04_24_10_43_59_103RightACC_clean_with_delta.csv | P17\n",
            "  35.00 ms | 2024_11_07_11_06_21_482LeftACC_clean_with_delta.csv | P5\n",
            "  35.00 ms | 2025_07_10_13_40_51_335RightACC_clean_with_delta.csv | P18\n",
            "  36.00 ms | 2025_05_07_08_36_55_504LeftACC_clean_with_delta.csv | P17\n",
            "  36.00 ms | 2024_11_07_11_06_21_482RightACC_clean_with_delta.csv | P5\n",
            "  36.00 ms | 2025_05_07_10_30_27_271RightACC_clean_with_delta.csv | P17\n",
            "  37.00 ms | 2025_07_10_13_40_51_335LeftACC_clean_with_delta.csv | P18\n",
            "  37.00 ms | 2025_03_26_10_26_43_944LeftACC_clean_with_delta.csv | P15\n",
            "  38.00 ms | 2025_05_07_08_36_55_504RightACC_clean_with_delta.csv | P17\n",
            "  38.00 ms | 2025_04_24_10_43_59_103LeftACC_clean_with_delta.csv | P17\n",
            "  39.00 ms | 2025_02_13_11_12_19_678LeftACC_clean_with_delta.csv | P14\n",
            "  39.00 ms | 2025_04_10_09_48_00_409RightACC_clean_with_delta.csv | P16\n",
            "  40.00 ms | 2025_05_28_13_13_34_381RightACC_clean_with_delta.csv | P8\n",
            "  41.00 ms | 2025_01_23_10_45_11_105RightACC_clean_with_delta.csv | P12\n",
            "  41.00 ms | 2025_04_24_08_42_03_438RightACC_clean_with_delta.csv | P17\n",
            "  42.00 ms | 2025_01_23_10_45_11_105LeftACC_clean_with_delta.csv | P12\n",
            "  43.00 ms | 2025_03_26_11_46_13_293LeftACC_clean_with_delta.csv | P15\n",
            "  43.00 ms | 2025_03_26_10_26_43_944RightACC_clean_with_delta.csv | P15\n",
            "  44.00 ms | 2025_05_26_12_58_34_469RightACC_clean_with_delta.csv | P2\n",
            "  45.00 ms | 2025_04_24_08_42_03_438LeftACC_clean_with_delta.csv | P17\n",
            "  48.00 ms | 2025_01_23_13_04_44_680LeftACC_clean_with_delta.csv | P12\n",
            "  50.00 ms | 2025_03_26_11_46_13_293RightACC_clean_with_delta.csv | P15\n",
            "  51.00 ms | 2025_07_09_12_53_04_524LeftACC_clean_with_delta.csv | P9\n",
            "  53.00 ms | 2025_05_28_13_13_34_381LeftACC_clean_with_delta.csv | P8\n",
            "  54.00 ms | 2025_02_13_11_12_19_678RightACC_clean_with_delta.csv | P14\n",
            "  55.00 ms | 2025_05_07_10_30_27_271LeftACC_clean_with_delta.csv | P17\n",
            "  56.00 ms | 2025_01_23_13_04_44_680RightACC_clean_with_delta.csv | P12\n",
            "  67.00 ms | 2025_05_07_11_41_22_126LeftACC_clean_with_delta.csv | P11\n",
            "  68.00 ms | 2025_07_09_12_53_04_524RightACC_clean_with_delta.csv | P9\n",
            "  72.00 ms | 2025_05_08_12_05_12_884LeftACC_clean_with_delta.csv | P3\n",
            "  85.00 ms | 2025_05_18_11_08_23_655LeftACC_clean_with_delta.csv | P12\n",
            "  89.00 ms | 2025_05_18_11_08_23_655RightACC_clean_with_delta.csv | P12\n",
            "  92.00 ms | 2025_05_07_11_41_22_126RightACC_clean_with_delta.csv | P11\n",
            "  92.00 ms | 2025_05_08_12_05_12_884RightACC_clean_with_delta.csv | P3\n",
            " 240.00 ms | 2025_05_26_12_58_34_469LeftACC_clean_with_delta.csv | P2\n",
            " 286.00 ms | 2025_04_02_12_15_05_225LeftACC_clean_with_delta.csv | P16\n",
            " 321.00 ms | 2025_04_02_10_29_24_164RightACC_clean_with_delta.csv | P16\n",
            " 369.00 ms | 2025_04_02_10_29_24_164LeftACC_clean_with_delta.csv | P16\n",
            "\n",
            "GLOBAL 75-percentile of all delta_time = 60.00 ms\n",
            "\n",
            "── Stats on q75 list ──\n",
            "Q1  (25-th pct) : 36.00 ms\n",
            "Q3  (75-th pct) : 58.75 ms\n",
            "IQR (Q3-Q1)     : 22.75 ms\n",
            "Upper fence     : 92.88 ms\n",
            "\n",
            "⚠️  Files whose q75 is ABOVE the upper-fence:\n",
            "  240.00 ms | 2025_05_26_12_58_34_469LeftACC_clean_with_delta.csv | P2\n",
            "  286.00 ms | 2025_04_02_12_15_05_225LeftACC_clean_with_delta.csv | P16\n",
            "  321.00 ms | 2025_04_02_10_29_24_164RightACC_clean_with_delta.csv | P16\n",
            "  369.00 ms | 2025_04_02_10_29_24_164LeftACC_clean_with_delta.csv | P16\n"
          ]
        }
      ]
    }
  ]
}